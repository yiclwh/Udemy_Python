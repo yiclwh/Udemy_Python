{
 "cells": [
  {
   "cell_type": "code",
   "execution_count": 1,
   "metadata": {
    "collapsed": true
   },
   "outputs": [],
   "source": [
    "import numpy as np\n",
    "import pandas as pd\n",
    "from pandas import Series, DataFrame"
   ]
  },
  {
   "cell_type": "code",
   "execution_count": 3,
   "metadata": {
    "collapsed": false
   },
   "outputs": [
    {
     "data": {
      "text/plain": [
       "True"
      ]
     },
     "execution_count": 3,
     "metadata": {},
     "output_type": "execute_result"
    }
   ],
   "source": [
    "import webbrowser\n",
    "website = 'https://en.wikipedia.org/wiki/NFL_win-loss_records'\n",
    "webbrowser.open(website)"
   ]
  },
  {
   "cell_type": "code",
   "execution_count": 8,
   "metadata": {
    "collapsed": false
   },
   "outputs": [
    {
     "data": {
      "text/html": [
       "<div>\n",
       "<table border=\"1\" class=\"dataframe\">\n",
       "  <thead>\n",
       "    <tr style=\"text-align: right;\">\n",
       "      <th></th>\n",
       "      <th>Rank</th>\n",
       "      <th>Team</th>\n",
       "      <th>Won</th>\n",
       "      <th>Lost</th>\n",
       "      <th>Tied*</th>\n",
       "      <th>Pct.</th>\n",
       "      <th>First Season</th>\n",
       "      <th>Total Games</th>\n",
       "      <th>Conference</th>\n",
       "    </tr>\n",
       "  </thead>\n",
       "  <tbody>\n",
       "    <tr>\n",
       "      <th>0</th>\n",
       "      <td>1</td>\n",
       "      <td>Green Bay Packers</td>\n",
       "      <td>751</td>\n",
       "      <td>567</td>\n",
       "      <td>37</td>\n",
       "      <td>0.568</td>\n",
       "      <td>1921</td>\n",
       "      <td>1355</td>\n",
       "      <td>NFC North</td>\n",
       "    </tr>\n",
       "    <tr>\n",
       "      <th>1</th>\n",
       "      <td>2</td>\n",
       "      <td>Chicago Bears</td>\n",
       "      <td>758</td>\n",
       "      <td>573</td>\n",
       "      <td>42</td>\n",
       "      <td>0.567</td>\n",
       "      <td>1920</td>\n",
       "      <td>1373</td>\n",
       "      <td>NFC North</td>\n",
       "    </tr>\n",
       "    <tr>\n",
       "      <th>2</th>\n",
       "      <td>3</td>\n",
       "      <td>Dallas Cowboys</td>\n",
       "      <td>515</td>\n",
       "      <td>392</td>\n",
       "      <td>6</td>\n",
       "      <td>0.567</td>\n",
       "      <td>1960</td>\n",
       "      <td>913</td>\n",
       "      <td>NFC East</td>\n",
       "    </tr>\n",
       "    <tr>\n",
       "      <th>3</th>\n",
       "      <td>4</td>\n",
       "      <td>Miami Dolphins</td>\n",
       "      <td>449</td>\n",
       "      <td>355</td>\n",
       "      <td>4</td>\n",
       "      <td>0.558</td>\n",
       "      <td>1966</td>\n",
       "      <td>808</td>\n",
       "      <td>AFC East</td>\n",
       "    </tr>\n",
       "    <tr>\n",
       "      <th>4</th>\n",
       "      <td>5</td>\n",
       "      <td>New England Patriots</td>\n",
       "      <td>490</td>\n",
       "      <td>399</td>\n",
       "      <td>9</td>\n",
       "      <td>0.551</td>\n",
       "      <td>1960</td>\n",
       "      <td>898</td>\n",
       "      <td>AFC East</td>\n",
       "    </tr>\n",
       "  </tbody>\n",
       "</table>\n",
       "</div>"
      ],
      "text/plain": [
       "   Rank                  Team  Won  Lost  Tied*   Pct.  First Season  \\\n",
       "0     1     Green Bay Packers  751   567     37  0.568          1921   \n",
       "1     2         Chicago Bears  758   573     42  0.567          1920   \n",
       "2     3        Dallas Cowboys  515   392      6  0.567          1960   \n",
       "3     4        Miami Dolphins  449   355      4  0.558          1966   \n",
       "4     5  New England Patriots  490   399      9  0.551          1960   \n",
       "\n",
       "   Total Games Conference  \n",
       "0         1355  NFC North  \n",
       "1         1373  NFC North  \n",
       "2          913   NFC East  \n",
       "3          808   AFC East  \n",
       "4          898   AFC East  "
      ]
     },
     "execution_count": 8,
     "metadata": {},
     "output_type": "execute_result"
    }
   ],
   "source": [
    "nfl_frame=pd.read_clipboard()\n",
    "nfl_frame"
   ]
  },
  {
   "cell_type": "code",
   "execution_count": 9,
   "metadata": {
    "collapsed": false
   },
   "outputs": [
    {
     "data": {
      "text/plain": [
       "Index([u'Rank', u'Team', u'Won', u'Lost', u'Tied*', u'Pct.', u'First Season',\n",
       "       u'Total Games', u'Conference'],\n",
       "      dtype='object')"
      ]
     },
     "execution_count": 9,
     "metadata": {},
     "output_type": "execute_result"
    }
   ],
   "source": [
    "nfl_frame.columns"
   ]
  },
  {
   "cell_type": "code",
   "execution_count": 10,
   "metadata": {
    "collapsed": false
   },
   "outputs": [
    {
     "data": {
      "text/plain": [
       "0    1\n",
       "1    2\n",
       "2    3\n",
       "3    4\n",
       "4    5\n",
       "Name: Rank, dtype: int64"
      ]
     },
     "execution_count": 10,
     "metadata": {},
     "output_type": "execute_result"
    }
   ],
   "source": [
    "nfl_frame.Rank"
   ]
  },
  {
   "cell_type": "code",
   "execution_count": 11,
   "metadata": {
    "collapsed": false
   },
   "outputs": [
    {
     "data": {
      "text/plain": [
       "0    567\n",
       "1    573\n",
       "2    392\n",
       "3    355\n",
       "4    399\n",
       "Name: Lost, dtype: int64"
      ]
     },
     "execution_count": 11,
     "metadata": {},
     "output_type": "execute_result"
    }
   ],
   "source": [
    "nfl_frame.Lost"
   ]
  },
  {
   "cell_type": "code",
   "execution_count": 13,
   "metadata": {
    "collapsed": false
   },
   "outputs": [
    {
     "data": {
      "text/html": [
       "<div>\n",
       "<table border=\"1\" class=\"dataframe\">\n",
       "  <thead>\n",
       "    <tr style=\"text-align: right;\">\n",
       "      <th></th>\n",
       "      <th>Team</th>\n",
       "      <th>First Season</th>\n",
       "      <th>Total Games</th>\n",
       "    </tr>\n",
       "  </thead>\n",
       "  <tbody>\n",
       "    <tr>\n",
       "      <th>0</th>\n",
       "      <td>Green Bay Packers</td>\n",
       "      <td>1921</td>\n",
       "      <td>1355</td>\n",
       "    </tr>\n",
       "    <tr>\n",
       "      <th>1</th>\n",
       "      <td>Chicago Bears</td>\n",
       "      <td>1920</td>\n",
       "      <td>1373</td>\n",
       "    </tr>\n",
       "    <tr>\n",
       "      <th>2</th>\n",
       "      <td>Dallas Cowboys</td>\n",
       "      <td>1960</td>\n",
       "      <td>913</td>\n",
       "    </tr>\n",
       "    <tr>\n",
       "      <th>3</th>\n",
       "      <td>Miami Dolphins</td>\n",
       "      <td>1966</td>\n",
       "      <td>808</td>\n",
       "    </tr>\n",
       "    <tr>\n",
       "      <th>4</th>\n",
       "      <td>New England Patriots</td>\n",
       "      <td>1960</td>\n",
       "      <td>898</td>\n",
       "    </tr>\n",
       "  </tbody>\n",
       "</table>\n",
       "</div>"
      ],
      "text/plain": [
       "                   Team  First Season  Total Games\n",
       "0     Green Bay Packers          1921         1355\n",
       "1         Chicago Bears          1920         1373\n",
       "2        Dallas Cowboys          1960          913\n",
       "3        Miami Dolphins          1966          808\n",
       "4  New England Patriots          1960          898"
      ]
     },
     "execution_count": 13,
     "metadata": {},
     "output_type": "execute_result"
    }
   ],
   "source": [
    "DataFrame(nfl_frame,columns=['Team','First Season','Total Games'])"
   ]
  },
  {
   "cell_type": "code",
   "execution_count": 16,
   "metadata": {
    "collapsed": false
   },
   "outputs": [
    {
     "data": {
      "text/html": [
       "<div>\n",
       "<table border=\"1\" class=\"dataframe\">\n",
       "  <thead>\n",
       "    <tr style=\"text-align: right;\">\n",
       "      <th></th>\n",
       "      <th>Rank</th>\n",
       "      <th>Team</th>\n",
       "      <th>Won</th>\n",
       "      <th>Lost</th>\n",
       "      <th>Tied*</th>\n",
       "      <th>Pct.</th>\n",
       "      <th>First Season</th>\n",
       "      <th>Total Games</th>\n",
       "      <th>Conference</th>\n",
       "    </tr>\n",
       "  </thead>\n",
       "  <tbody>\n",
       "    <tr>\n",
       "      <th>3</th>\n",
       "      <td>4</td>\n",
       "      <td>Miami Dolphins</td>\n",
       "      <td>449</td>\n",
       "      <td>355</td>\n",
       "      <td>4</td>\n",
       "      <td>0.558</td>\n",
       "      <td>1966</td>\n",
       "      <td>808</td>\n",
       "      <td>AFC East</td>\n",
       "    </tr>\n",
       "    <tr>\n",
       "      <th>4</th>\n",
       "      <td>5</td>\n",
       "      <td>New England Patriots</td>\n",
       "      <td>490</td>\n",
       "      <td>399</td>\n",
       "      <td>9</td>\n",
       "      <td>0.551</td>\n",
       "      <td>1960</td>\n",
       "      <td>898</td>\n",
       "      <td>AFC East</td>\n",
       "    </tr>\n",
       "  </tbody>\n",
       "</table>\n",
       "</div>"
      ],
      "text/plain": [
       "   Rank                  Team  Won  Lost  Tied*   Pct.  First Season  \\\n",
       "3     4        Miami Dolphins  449   355      4  0.558          1966   \n",
       "4     5  New England Patriots  490   399      9  0.551          1960   \n",
       "\n",
       "   Total Games Conference  \n",
       "3          808   AFC East  \n",
       "4          898   AFC East  "
      ]
     },
     "execution_count": 16,
     "metadata": {},
     "output_type": "execute_result"
    }
   ],
   "source": [
    "nfl_frame.tail(2)"
   ]
  },
  {
   "cell_type": "code",
   "execution_count": 17,
   "metadata": {
    "collapsed": false
   },
   "outputs": [
    {
     "data": {
      "text/plain": [
       "Rank                         4\n",
       "Team            Miami Dolphins\n",
       "Won                        449\n",
       "Lost                       355\n",
       "Tied*                        4\n",
       "Pct.                     0.558\n",
       "First Season              1966\n",
       "Total Games                808\n",
       "Conference            AFC East\n",
       "Name: 3, dtype: object"
      ]
     },
     "execution_count": 17,
     "metadata": {},
     "output_type": "execute_result"
    }
   ],
   "source": [
    "nfl_frame.ix[3]"
   ]
  },
  {
   "cell_type": "code",
   "execution_count": 18,
   "metadata": {
    "collapsed": false
   },
   "outputs": [
    {
     "data": {
      "text/html": [
       "<div>\n",
       "<table border=\"1\" class=\"dataframe\">\n",
       "  <thead>\n",
       "    <tr style=\"text-align: right;\">\n",
       "      <th></th>\n",
       "      <th>Rank</th>\n",
       "      <th>Team</th>\n",
       "      <th>Won</th>\n",
       "      <th>Lost</th>\n",
       "      <th>Tied*</th>\n",
       "      <th>Pct.</th>\n",
       "      <th>First Season</th>\n",
       "      <th>Total Games</th>\n",
       "      <th>Conference</th>\n",
       "      <th>Stadium</th>\n",
       "    </tr>\n",
       "  </thead>\n",
       "  <tbody>\n",
       "    <tr>\n",
       "      <th>0</th>\n",
       "      <td>1</td>\n",
       "      <td>Green Bay Packers</td>\n",
       "      <td>751</td>\n",
       "      <td>567</td>\n",
       "      <td>37</td>\n",
       "      <td>0.568</td>\n",
       "      <td>1921</td>\n",
       "      <td>1355</td>\n",
       "      <td>NFC North</td>\n",
       "      <td>Levis Stadium</td>\n",
       "    </tr>\n",
       "    <tr>\n",
       "      <th>1</th>\n",
       "      <td>2</td>\n",
       "      <td>Chicago Bears</td>\n",
       "      <td>758</td>\n",
       "      <td>573</td>\n",
       "      <td>42</td>\n",
       "      <td>0.567</td>\n",
       "      <td>1920</td>\n",
       "      <td>1373</td>\n",
       "      <td>NFC North</td>\n",
       "      <td>Levis Stadium</td>\n",
       "    </tr>\n",
       "    <tr>\n",
       "      <th>2</th>\n",
       "      <td>3</td>\n",
       "      <td>Dallas Cowboys</td>\n",
       "      <td>515</td>\n",
       "      <td>392</td>\n",
       "      <td>6</td>\n",
       "      <td>0.567</td>\n",
       "      <td>1960</td>\n",
       "      <td>913</td>\n",
       "      <td>NFC East</td>\n",
       "      <td>Levis Stadium</td>\n",
       "    </tr>\n",
       "    <tr>\n",
       "      <th>3</th>\n",
       "      <td>4</td>\n",
       "      <td>Miami Dolphins</td>\n",
       "      <td>449</td>\n",
       "      <td>355</td>\n",
       "      <td>4</td>\n",
       "      <td>0.558</td>\n",
       "      <td>1966</td>\n",
       "      <td>808</td>\n",
       "      <td>AFC East</td>\n",
       "      <td>Levis Stadium</td>\n",
       "    </tr>\n",
       "    <tr>\n",
       "      <th>4</th>\n",
       "      <td>5</td>\n",
       "      <td>New England Patriots</td>\n",
       "      <td>490</td>\n",
       "      <td>399</td>\n",
       "      <td>9</td>\n",
       "      <td>0.551</td>\n",
       "      <td>1960</td>\n",
       "      <td>898</td>\n",
       "      <td>AFC East</td>\n",
       "      <td>Levis Stadium</td>\n",
       "    </tr>\n",
       "  </tbody>\n",
       "</table>\n",
       "</div>"
      ],
      "text/plain": [
       "   Rank                  Team  Won  Lost  Tied*   Pct.  First Season  \\\n",
       "0     1     Green Bay Packers  751   567     37  0.568          1921   \n",
       "1     2         Chicago Bears  758   573     42  0.567          1920   \n",
       "2     3        Dallas Cowboys  515   392      6  0.567          1960   \n",
       "3     4        Miami Dolphins  449   355      4  0.558          1966   \n",
       "4     5  New England Patriots  490   399      9  0.551          1960   \n",
       "\n",
       "   Total Games Conference        Stadium  \n",
       "0         1355  NFC North  Levis Stadium  \n",
       "1         1373  NFC North  Levis Stadium  \n",
       "2          913   NFC East  Levis Stadium  \n",
       "3          808   AFC East  Levis Stadium  \n",
       "4          898   AFC East  Levis Stadium  "
      ]
     },
     "execution_count": 18,
     "metadata": {},
     "output_type": "execute_result"
    }
   ],
   "source": [
    "nfl_frame['Stadium']=\"Levis Stadium\"\n",
    "nfl_frame"
   ]
  },
  {
   "cell_type": "code",
   "execution_count": 21,
   "metadata": {
    "collapsed": false
   },
   "outputs": [
    {
     "data": {
      "text/html": [
       "<div>\n",
       "<table border=\"1\" class=\"dataframe\">\n",
       "  <thead>\n",
       "    <tr style=\"text-align: right;\">\n",
       "      <th></th>\n",
       "      <th>Rank</th>\n",
       "      <th>Team</th>\n",
       "      <th>Won</th>\n",
       "      <th>Lost</th>\n",
       "      <th>Tied*</th>\n",
       "      <th>Pct.</th>\n",
       "      <th>First Season</th>\n",
       "      <th>Total Games</th>\n",
       "      <th>Conference</th>\n",
       "      <th>Stadium</th>\n",
       "    </tr>\n",
       "  </thead>\n",
       "  <tbody>\n",
       "    <tr>\n",
       "      <th>0</th>\n",
       "      <td>1</td>\n",
       "      <td>Green Bay Packers</td>\n",
       "      <td>751</td>\n",
       "      <td>567</td>\n",
       "      <td>37</td>\n",
       "      <td>0.568</td>\n",
       "      <td>1921</td>\n",
       "      <td>1355</td>\n",
       "      <td>NFC North</td>\n",
       "      <td>0</td>\n",
       "    </tr>\n",
       "    <tr>\n",
       "      <th>1</th>\n",
       "      <td>2</td>\n",
       "      <td>Chicago Bears</td>\n",
       "      <td>758</td>\n",
       "      <td>573</td>\n",
       "      <td>42</td>\n",
       "      <td>0.567</td>\n",
       "      <td>1920</td>\n",
       "      <td>1373</td>\n",
       "      <td>NFC North</td>\n",
       "      <td>1</td>\n",
       "    </tr>\n",
       "    <tr>\n",
       "      <th>2</th>\n",
       "      <td>3</td>\n",
       "      <td>Dallas Cowboys</td>\n",
       "      <td>515</td>\n",
       "      <td>392</td>\n",
       "      <td>6</td>\n",
       "      <td>0.567</td>\n",
       "      <td>1960</td>\n",
       "      <td>913</td>\n",
       "      <td>NFC East</td>\n",
       "      <td>2</td>\n",
       "    </tr>\n",
       "    <tr>\n",
       "      <th>3</th>\n",
       "      <td>4</td>\n",
       "      <td>Miami Dolphins</td>\n",
       "      <td>449</td>\n",
       "      <td>355</td>\n",
       "      <td>4</td>\n",
       "      <td>0.558</td>\n",
       "      <td>1966</td>\n",
       "      <td>808</td>\n",
       "      <td>AFC East</td>\n",
       "      <td>3</td>\n",
       "    </tr>\n",
       "    <tr>\n",
       "      <th>4</th>\n",
       "      <td>5</td>\n",
       "      <td>New England Patriots</td>\n",
       "      <td>490</td>\n",
       "      <td>399</td>\n",
       "      <td>9</td>\n",
       "      <td>0.551</td>\n",
       "      <td>1960</td>\n",
       "      <td>898</td>\n",
       "      <td>AFC East</td>\n",
       "      <td>4</td>\n",
       "    </tr>\n",
       "  </tbody>\n",
       "</table>\n",
       "</div>"
      ],
      "text/plain": [
       "   Rank                  Team  Won  Lost  Tied*   Pct.  First Season  \\\n",
       "0     1     Green Bay Packers  751   567     37  0.568          1921   \n",
       "1     2         Chicago Bears  758   573     42  0.567          1920   \n",
       "2     3        Dallas Cowboys  515   392      6  0.567          1960   \n",
       "3     4        Miami Dolphins  449   355      4  0.558          1966   \n",
       "4     5  New England Patriots  490   399      9  0.551          1960   \n",
       "\n",
       "   Total Games Conference  Stadium  \n",
       "0         1355  NFC North        0  \n",
       "1         1373  NFC North        1  \n",
       "2          913   NFC East        2  \n",
       "3          808   AFC East        3  \n",
       "4          898   AFC East        4  "
      ]
     },
     "execution_count": 21,
     "metadata": {},
     "output_type": "execute_result"
    }
   ],
   "source": [
    "nfl_frame['Stadium'] = np.arange(5)\n",
    "nfl_frame"
   ]
  },
  {
   "cell_type": "code",
   "execution_count": 22,
   "metadata": {
    "collapsed": false
   },
   "outputs": [
    {
     "data": {
      "text/plain": [
       "4    Levi's Stadium\n",
       "0      AT&T Stadium\n",
       "dtype: object"
      ]
     },
     "execution_count": 22,
     "metadata": {},
     "output_type": "execute_result"
    }
   ],
   "source": [
    "stadiums = Series([\"Levi's Stadium\",\"AT&T Stadium\"],index=[4,0])\n",
    "stadiums"
   ]
  },
  {
   "cell_type": "code",
   "execution_count": 23,
   "metadata": {
    "collapsed": true
   },
   "outputs": [],
   "source": [
    "nfl_frame['Stadium'] = stadiums"
   ]
  },
  {
   "cell_type": "code",
   "execution_count": 24,
   "metadata": {
    "collapsed": false
   },
   "outputs": [
    {
     "data": {
      "text/html": [
       "<div>\n",
       "<table border=\"1\" class=\"dataframe\">\n",
       "  <thead>\n",
       "    <tr style=\"text-align: right;\">\n",
       "      <th></th>\n",
       "      <th>Rank</th>\n",
       "      <th>Team</th>\n",
       "      <th>Won</th>\n",
       "      <th>Lost</th>\n",
       "      <th>Tied*</th>\n",
       "      <th>Pct.</th>\n",
       "      <th>First Season</th>\n",
       "      <th>Total Games</th>\n",
       "      <th>Conference</th>\n",
       "      <th>Stadium</th>\n",
       "    </tr>\n",
       "  </thead>\n",
       "  <tbody>\n",
       "    <tr>\n",
       "      <th>0</th>\n",
       "      <td>1</td>\n",
       "      <td>Green Bay Packers</td>\n",
       "      <td>751</td>\n",
       "      <td>567</td>\n",
       "      <td>37</td>\n",
       "      <td>0.568</td>\n",
       "      <td>1921</td>\n",
       "      <td>1355</td>\n",
       "      <td>NFC North</td>\n",
       "      <td>AT&amp;T Stadium</td>\n",
       "    </tr>\n",
       "    <tr>\n",
       "      <th>1</th>\n",
       "      <td>2</td>\n",
       "      <td>Chicago Bears</td>\n",
       "      <td>758</td>\n",
       "      <td>573</td>\n",
       "      <td>42</td>\n",
       "      <td>0.567</td>\n",
       "      <td>1920</td>\n",
       "      <td>1373</td>\n",
       "      <td>NFC North</td>\n",
       "      <td>NaN</td>\n",
       "    </tr>\n",
       "    <tr>\n",
       "      <th>2</th>\n",
       "      <td>3</td>\n",
       "      <td>Dallas Cowboys</td>\n",
       "      <td>515</td>\n",
       "      <td>392</td>\n",
       "      <td>6</td>\n",
       "      <td>0.567</td>\n",
       "      <td>1960</td>\n",
       "      <td>913</td>\n",
       "      <td>NFC East</td>\n",
       "      <td>NaN</td>\n",
       "    </tr>\n",
       "    <tr>\n",
       "      <th>3</th>\n",
       "      <td>4</td>\n",
       "      <td>Miami Dolphins</td>\n",
       "      <td>449</td>\n",
       "      <td>355</td>\n",
       "      <td>4</td>\n",
       "      <td>0.558</td>\n",
       "      <td>1966</td>\n",
       "      <td>808</td>\n",
       "      <td>AFC East</td>\n",
       "      <td>NaN</td>\n",
       "    </tr>\n",
       "    <tr>\n",
       "      <th>4</th>\n",
       "      <td>5</td>\n",
       "      <td>New England Patriots</td>\n",
       "      <td>490</td>\n",
       "      <td>399</td>\n",
       "      <td>9</td>\n",
       "      <td>0.551</td>\n",
       "      <td>1960</td>\n",
       "      <td>898</td>\n",
       "      <td>AFC East</td>\n",
       "      <td>Levi's Stadium</td>\n",
       "    </tr>\n",
       "  </tbody>\n",
       "</table>\n",
       "</div>"
      ],
      "text/plain": [
       "   Rank                  Team  Won  Lost  Tied*   Pct.  First Season  \\\n",
       "0     1     Green Bay Packers  751   567     37  0.568          1921   \n",
       "1     2         Chicago Bears  758   573     42  0.567          1920   \n",
       "2     3        Dallas Cowboys  515   392      6  0.567          1960   \n",
       "3     4        Miami Dolphins  449   355      4  0.558          1966   \n",
       "4     5  New England Patriots  490   399      9  0.551          1960   \n",
       "\n",
       "   Total Games Conference         Stadium  \n",
       "0         1355  NFC North    AT&T Stadium  \n",
       "1         1373  NFC North             NaN  \n",
       "2          913   NFC East             NaN  \n",
       "3          808   AFC East             NaN  \n",
       "4          898   AFC East  Levi's Stadium  "
      ]
     },
     "execution_count": 24,
     "metadata": {},
     "output_type": "execute_result"
    }
   ],
   "source": [
    "nfl_frame"
   ]
  },
  {
   "cell_type": "code",
   "execution_count": 30,
   "metadata": {
    "collapsed": false
   },
   "outputs": [
    {
     "data": {
      "text/html": [
       "<div>\n",
       "<table border=\"1\" class=\"dataframe\">\n",
       "  <thead>\n",
       "    <tr style=\"text-align: right;\">\n",
       "      <th></th>\n",
       "      <th>Rank</th>\n",
       "      <th>Team</th>\n",
       "      <th>Won</th>\n",
       "      <th>Lost</th>\n",
       "      <th>Tied*</th>\n",
       "      <th>Pct.</th>\n",
       "      <th>First Season</th>\n",
       "      <th>Total Games</th>\n",
       "      <th>Conference</th>\n",
       "    </tr>\n",
       "  </thead>\n",
       "  <tbody>\n",
       "    <tr>\n",
       "      <th>0</th>\n",
       "      <td>1</td>\n",
       "      <td>Green Bay Packers</td>\n",
       "      <td>751</td>\n",
       "      <td>567</td>\n",
       "      <td>37</td>\n",
       "      <td>0.568</td>\n",
       "      <td>1921</td>\n",
       "      <td>1355</td>\n",
       "      <td>NFC North</td>\n",
       "    </tr>\n",
       "    <tr>\n",
       "      <th>1</th>\n",
       "      <td>2</td>\n",
       "      <td>Chicago Bears</td>\n",
       "      <td>758</td>\n",
       "      <td>573</td>\n",
       "      <td>42</td>\n",
       "      <td>0.567</td>\n",
       "      <td>1920</td>\n",
       "      <td>1373</td>\n",
       "      <td>NFC North</td>\n",
       "    </tr>\n",
       "    <tr>\n",
       "      <th>2</th>\n",
       "      <td>3</td>\n",
       "      <td>Dallas Cowboys</td>\n",
       "      <td>515</td>\n",
       "      <td>392</td>\n",
       "      <td>6</td>\n",
       "      <td>0.567</td>\n",
       "      <td>1960</td>\n",
       "      <td>913</td>\n",
       "      <td>NFC East</td>\n",
       "    </tr>\n",
       "    <tr>\n",
       "      <th>3</th>\n",
       "      <td>4</td>\n",
       "      <td>Miami Dolphins</td>\n",
       "      <td>449</td>\n",
       "      <td>355</td>\n",
       "      <td>4</td>\n",
       "      <td>0.558</td>\n",
       "      <td>1966</td>\n",
       "      <td>808</td>\n",
       "      <td>AFC East</td>\n",
       "    </tr>\n",
       "    <tr>\n",
       "      <th>4</th>\n",
       "      <td>5</td>\n",
       "      <td>New England Patriots</td>\n",
       "      <td>490</td>\n",
       "      <td>399</td>\n",
       "      <td>9</td>\n",
       "      <td>0.551</td>\n",
       "      <td>1960</td>\n",
       "      <td>898</td>\n",
       "      <td>AFC East</td>\n",
       "    </tr>\n",
       "  </tbody>\n",
       "</table>\n",
       "</div>"
      ],
      "text/plain": [
       "   Rank                  Team  Won  Lost  Tied*   Pct.  First Season  \\\n",
       "0     1     Green Bay Packers  751   567     37  0.568          1921   \n",
       "1     2         Chicago Bears  758   573     42  0.567          1920   \n",
       "2     3        Dallas Cowboys  515   392      6  0.567          1960   \n",
       "3     4        Miami Dolphins  449   355      4  0.558          1966   \n",
       "4     5  New England Patriots  490   399      9  0.551          1960   \n",
       "\n",
       "   Total Games Conference  \n",
       "0         1355  NFC North  \n",
       "1         1373  NFC North  \n",
       "2          913   NFC East  \n",
       "3          808   AFC East  \n",
       "4          898   AFC East  "
      ]
     },
     "execution_count": 30,
     "metadata": {},
     "output_type": "execute_result"
    }
   ],
   "source": [
    "#del nfl_frame['Stadium']\n",
    "nfl_frame"
   ]
  },
  {
   "cell_type": "code",
   "execution_count": 31,
   "metadata": {
    "collapsed": true
   },
   "outputs": [],
   "source": [
    "data={'City':['SF','LA','NYC'],'Population':[837000,3880000,8400000]}"
   ]
  },
  {
   "cell_type": "code",
   "execution_count": 32,
   "metadata": {
    "collapsed": true
   },
   "outputs": [],
   "source": [
    "city_frame = DataFrame(data)"
   ]
  },
  {
   "cell_type": "code",
   "execution_count": 33,
   "metadata": {
    "collapsed": false
   },
   "outputs": [
    {
     "data": {
      "text/html": [
       "<div>\n",
       "<table border=\"1\" class=\"dataframe\">\n",
       "  <thead>\n",
       "    <tr style=\"text-align: right;\">\n",
       "      <th></th>\n",
       "      <th>City</th>\n",
       "      <th>Population</th>\n",
       "    </tr>\n",
       "  </thead>\n",
       "  <tbody>\n",
       "    <tr>\n",
       "      <th>0</th>\n",
       "      <td>SF</td>\n",
       "      <td>837000</td>\n",
       "    </tr>\n",
       "    <tr>\n",
       "      <th>1</th>\n",
       "      <td>LA</td>\n",
       "      <td>3880000</td>\n",
       "    </tr>\n",
       "    <tr>\n",
       "      <th>2</th>\n",
       "      <td>NYC</td>\n",
       "      <td>8400000</td>\n",
       "    </tr>\n",
       "  </tbody>\n",
       "</table>\n",
       "</div>"
      ],
      "text/plain": [
       "  City  Population\n",
       "0   SF      837000\n",
       "1   LA     3880000\n",
       "2  NYC     8400000"
      ]
     },
     "execution_count": 33,
     "metadata": {},
     "output_type": "execute_result"
    }
   ],
   "source": [
    "city_frame"
   ]
  },
  {
   "cell_type": "code",
   "execution_count": 35,
   "metadata": {
    "collapsed": false
   },
   "outputs": [
    {
     "data": {
      "text/plain": [
       "True"
      ]
     },
     "execution_count": 35,
     "metadata": {},
     "output_type": "execute_result"
    }
   ],
   "source": [
    "website = 'http://pandas.pydata.org/pandas-docs/stable/generated/pandas.DataFrame.html'\n",
    "webbrowser.open(website)"
   ]
  },
  {
   "cell_type": "code",
   "execution_count": null,
   "metadata": {
    "collapsed": true
   },
   "outputs": [],
   "source": []
  }
 ],
 "metadata": {
  "kernelspec": {
   "display_name": "Python 2",
   "language": "python",
   "name": "python2"
  },
  "language_info": {
   "codemirror_mode": {
    "name": "ipython",
    "version": 2
   },
   "file_extension": ".py",
   "mimetype": "text/x-python",
   "name": "python",
   "nbconvert_exporter": "python",
   "pygments_lexer": "ipython2",
   "version": "2.7.11"
  }
 },
 "nbformat": 4,
 "nbformat_minor": 0
}
